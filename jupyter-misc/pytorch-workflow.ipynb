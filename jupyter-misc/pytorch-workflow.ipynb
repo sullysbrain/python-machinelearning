{
 "cells": [
  {
   "cell_type": "markdown",
   "id": "472cd13e",
   "metadata": {},
   "source": [
    "## PyTorch End to End Workflow"
   ]
  },
  {
   "cell_type": "code",
   "execution_count": 60,
   "id": "42aec683",
   "metadata": {},
   "outputs": [
    {
     "data": {
      "text/plain": [
       "'1.12.1'"
      ]
     },
     "execution_count": 60,
     "metadata": {},
     "output_type": "execute_result"
    }
   ],
   "source": [
    "import torch\n",
    "from torch import nn ## nn contains all of PyTorch's building blocks for neural networks\n",
    "import matplotlib.pyplot as plt\n",
    "\n",
    "#check pytorch version\n",
    "torch.__version__"
   ]
  },
  {
   "cell_type": "markdown",
   "id": "17efb594",
   "metadata": {},
   "source": [
    "### 1. Data Loading and Preparing\n",
    "* Create _known_ **parameters** using linear regression\n",
    "* Y = a + b * x"
   ]
  },
  {
   "cell_type": "code",
   "execution_count": 61,
   "id": "998ef42b",
   "metadata": {},
   "outputs": [
    {
     "data": {
      "text/plain": [
       "(tensor([[0.0000],\n",
       "         [0.0200],\n",
       "         [0.0400],\n",
       "         [0.0600],\n",
       "         [0.0800],\n",
       "         [0.1000],\n",
       "         [0.1200],\n",
       "         [0.1400],\n",
       "         [0.1600],\n",
       "         [0.1800]]),\n",
       " tensor([[0.3000],\n",
       "         [0.3140],\n",
       "         [0.3280],\n",
       "         [0.3420],\n",
       "         [0.3560],\n",
       "         [0.3700],\n",
       "         [0.3840],\n",
       "         [0.3980],\n",
       "         [0.4120],\n",
       "         [0.4260]]))"
      ]
     },
     "execution_count": 61,
     "metadata": {},
     "output_type": "execute_result"
    }
   ],
   "source": [
    "# Create known parameters\n",
    "weight = 0.7\n",
    "bias = 0.3\n",
    "\n",
    "# Create range of numbers\n",
    "start = 0\n",
    "end = 1\n",
    "step = 0.02\n",
    "# X (capital) is a matrix or tensor in machine learning\n",
    "# Unsqueezed in next line adds another dimension\n",
    "X = torch.arange(start, end, step).unsqueeze(dim=1) \n",
    "y = weight * X + bias\n",
    "\n",
    "X[:10], y[:10]    # Display first 10 values"
   ]
  },
  {
   "cell_type": "code",
   "execution_count": 62,
   "id": "1da835a2",
   "metadata": {},
   "outputs": [
    {
     "data": {
      "text/plain": [
       "(50, 50)"
      ]
     },
     "execution_count": 62,
     "metadata": {},
     "output_type": "execute_result"
    }
   ],
   "source": [
    "# Splitting data into training and test data is one of the most important concept of machine learning\n",
    "# Creating 2 or 3 sets: Training Set (75% data), Validation Set (15%), Testing Set (15%)\n",
    "\n",
    "len(X), len(y)"
   ]
  },
  {
   "cell_type": "code",
   "execution_count": 63,
   "id": "427c1b3d",
   "metadata": {},
   "outputs": [
    {
     "data": {
      "text/plain": [
       "(40, 40, 10, 10)"
      ]
     },
     "execution_count": 63,
     "metadata": {},
     "output_type": "execute_result"
    }
   ],
   "source": [
    "# There are 50 sets, so lets make 80/20 split train/test\n",
    "\n",
    "train_split = int(0.8 * len(X))\n",
    "X_train, y_train = X[:train_split], y[:train_split]\n",
    "X_test, y_test = X[train_split:], y[train_split:]\n",
    "\n",
    "len(X_train), len(y_train), len(X_test), len(y_test)"
   ]
  },
  {
   "cell_type": "code",
   "execution_count": 64,
   "id": "88389860",
   "metadata": {},
   "outputs": [],
   "source": [
    "def plot_predictions(train_data = X_train, \n",
    "                    train_labels = y_train, \n",
    "                    test_data = X_test,\n",
    "                    test_labels = y_test,\n",
    "                    predictions = None):\n",
    "    \"\"\"\n",
    "    Plots training data, test data, compares predictions.\n",
    "    \"\"\"\n",
    "    plt.figure(figsize = (10, 7))\n",
    "    # Plot training in blue\n",
    "    plt.scatter(train_data, \n",
    "                train_labels, \n",
    "                c=\"b\", \n",
    "                s=4, \n",
    "                label=\"Training data\")\n",
    "    # Plot test data in green\n",
    "    plt.scatter(test_data, \n",
    "                test_labels, \n",
    "                c=\"g\", \n",
    "                s=4, \n",
    "                label=\"Test data\")\n",
    "    # Are there predictions? If yes, plot\n",
    "    if predictions is not None:\n",
    "        plt.scatter(test_data, predictions, c='r', label='Predictions')\n",
    "    \n",
    "    #Show legent\n",
    "    plt.legend(prop={'size': 14});    "
   ]
  },
  {
   "cell_type": "code",
   "execution_count": 65,
   "id": "1e917942",
   "metadata": {},
   "outputs": [
    {
     "data": {
      "image/png": "[encoded data removed]",
      "text/plain": [
       "<Figure size 1000x700 with 1 Axes>"
      ]
     },
     "metadata": {},
     "output_type": "display_data"
    }
   ],
   "source": [
    "plot_predictions()"
   ]
  },
  {
   "cell_type": "markdown",
   "id": "d6b2eda9",
   "metadata": {},
   "source": [
    "### 2. Build PyTorch Model"
   ]
  },
  {
   "cell_type": "code",
   "execution_count": 66,
   "id": "39b38f94",
   "metadata": {},
   "outputs": [],
   "source": [
    "from torch import nn\n",
    "\n",
    "# Create linear regression model class\n",
    "class LinearRegressionModel(nn.Module):\n",
    "    def __init__(self):\n",
    "        super().__init__()        \n",
    "        self.weights = nn.Parameter(torch.randn(1, \n",
    "                                                requires_grad=True, \n",
    "                                                dtype=torch.float\n",
    "        ))\n",
    "\n",
    "        self.bias = nn.Parameter(torch.randn(1,\n",
    "                                            requires_grad=True,\n",
    "                                            dtype=torch.float # <- PyTorch loves float32 by default\n",
    "        ))\n",
    "        \n",
    "    #Forward method to define the computation in the model\n",
    "    def forward(self, x: torch.Tensor) -> torch.Tensor:\n",
    "        return self.weights * x + self.bias"
   ]
  },
  {
   "cell_type": "code",
   "execution_count": 67,
   "id": "2db15803",
   "metadata": {},
   "outputs": [
    {
     "data": {
      "text/plain": [
       "[Parameter containing:\n",
       " tensor([0.3367], requires_grad=True),\n",
       " Parameter containing:\n",
       " tensor([0.1288], requires_grad=True)]"
      ]
     },
     "execution_count": 67,
     "metadata": {},
     "output_type": "execute_result"
    }
   ],
   "source": [
    "# Create random seed for our model for consistency\n",
    "torch.manual_seed(42)\n",
    "\n",
    "# create an instance of lin reg model\n",
    "model_0 = LinearRegressionModel()\n",
    "# check parameters\n",
    "list(model_0.parameters())"
   ]
  },
  {
   "cell_type": "code",
   "execution_count": 68,
   "id": "ffe06b68",
   "metadata": {},
   "outputs": [
    {
     "data": {
      "text/plain": [
       "OrderedDict([('weights', tensor([0.3367])), ('bias', tensor([0.1288]))])"
      ]
     },
     "execution_count": 68,
     "metadata": {},
     "output_type": "execute_result"
    }
   ],
   "source": [
    "# List named parameters\n",
    "model_0.state_dict()"
   ]
  },
  {
   "cell_type": "markdown",
   "id": "848f837e",
   "metadata": {},
   "source": [
    "### Making predictions using 'torch.inference_mode()'"
   ]
  },
  {
   "cell_type": "code",
   "execution_count": 69,
   "id": "e0370a78",
   "metadata": {},
   "outputs": [
    {
     "data": {
      "text/plain": [
       "tensor([[0.3982],\n",
       "        [0.4049],\n",
       "        [0.4116],\n",
       "        [0.4184],\n",
       "        [0.4251],\n",
       "        [0.4318],\n",
       "        [0.4386],\n",
       "        [0.4453],\n",
       "        [0.4520],\n",
       "        [0.4588]])"
      ]
     },
     "execution_count": 69,
     "metadata": {},
     "output_type": "execute_result"
    }
   ],
   "source": [
    "with torch.inference_mode():\n",
    "    y_preds = model_0(X_test)\n",
    "    \n",
    "y_preds"
   ]
  },
  {
   "cell_type": "code",
   "execution_count": 70,
   "id": "dd9369bb",
   "metadata": {},
   "outputs": [
    {
     "data": {
      "image/png": "[encoded data removed]",
      "text/plain": [
       "<Figure size 1000x700 with 1 Axes>"
      ]
     },
     "metadata": {},
     "output_type": "display_data"
    }
   ],
   "source": [
    "plot_predictions(predictions = y_preds)"
   ]
  },
  {
   "cell_type": "markdown",
   "id": "3eb79d30",
   "metadata": {},
   "source": [
    "#### How to make inference code in PyTorch run faster:\n",
    "https://twitter.com/PyTorch/status/1437838231505096708?s=20&t=cnKavO9iTgwQ-rfri6u7PQ"
   ]
  },
  {
   "cell_type": "markdown",
   "id": "aa78937e",
   "metadata": {},
   "source": [
    "### Loss Function\n",
    "* **Loss function**: measures how wrong your model's predictins are to the ideal output\n",
    "* **Optimizer**: takes into account the loss of model and adjusts the model's parameters to improve the loss function\n"
   ]
  },
  {
   "cell_type": "code",
   "execution_count": 71,
   "id": "d4f82122",
   "metadata": {},
   "outputs": [
    {
     "data": {
      "text/plain": [
       "OrderedDict([('weights', tensor([0.3367])), ('bias', tensor([0.1288]))])"
      ]
     },
     "execution_count": 71,
     "metadata": {},
     "output_type": "execute_result"
    }
   ],
   "source": [
    "model_0.state_dict()"
   ]
  },
  {
   "cell_type": "code",
   "execution_count": 72,
   "id": "3db58f8e",
   "metadata": {},
   "outputs": [],
   "source": [
    "# Setup a loss function\n",
    "loss_fn = nn.L1Loss()\n",
    "\n",
    "# Setup an optimizer (stochastic gradient descent)\n",
    "optimizer = torch.optim.SGD(params = model_0.parameters(),\n",
    "                            lr=0.1) # learning rate = most important hyperparameter\n",
    "\n"
   ]
  },
  {
   "cell_type": "markdown",
   "id": "d70d3044",
   "metadata": {},
   "source": [
    "### Building a training loop (and testing loop) in PyTorch\n",
    "0. Loop through the data\n",
    "1. Forward pass\n",
    "2. Calculate the loss\n",
    "3. Optimize the zero grad\n",
    "4. Loss backward\n",
    "5. Optimizer step"
   ]
  },
  {
   "cell_type": "code",
   "execution_count": 126,
   "id": "1c434c9f",
   "metadata": {},
   "outputs": [
    {
     "name": "stdout",
     "output_type": "stream",
     "text": [
      "Loss: 0.07543627172708511\n",
      "OrderedDict([('weights', tensor([0.6512])), ('bias', tensor([0.3588]))])\n",
      "Loss: 0.039773717522621155\n",
      "OrderedDict([('weights', tensor([0.6122])), ('bias', tensor([0.2588]))])\n",
      "Loss: 0.07543627172708511\n",
      "OrderedDict([('weights', tensor([0.6512])), ('bias', tensor([0.3588]))])\n",
      "Loss: 0.039773717522621155\n",
      "OrderedDict([('weights', tensor([0.6122])), ('bias', tensor([0.2588]))])\n",
      "Loss: 0.07543627172708511\n",
      "OrderedDict([('weights', tensor([0.6512])), ('bias', tensor([0.3588]))])\n",
      "Loss: 0.039773717522621155\n",
      "OrderedDict([('weights', tensor([0.6122])), ('bias', tensor([0.2588]))])\n",
      "Loss: 0.07543627172708511\n",
      "OrderedDict([('weights', tensor([0.6512])), ('bias', tensor([0.3588]))])\n",
      "Loss: 0.039773717522621155\n",
      "OrderedDict([('weights', tensor([0.6122])), ('bias', tensor([0.2588]))])\n",
      "Loss: 0.07543627172708511\n",
      "OrderedDict([('weights', tensor([0.6512])), ('bias', tensor([0.3588]))])\n",
      "Loss: 0.039773717522621155\n",
      "OrderedDict([('weights', tensor([0.6122])), ('bias', tensor([0.2588]))])\n",
      "Loss: 0.07543627172708511\n",
      "OrderedDict([('weights', tensor([0.6512])), ('bias', tensor([0.3588]))])\n",
      "Loss: 0.039773717522621155\n",
      "OrderedDict([('weights', tensor([0.6122])), ('bias', tensor([0.2588]))])\n",
      "Loss: 0.07543627172708511\n",
      "OrderedDict([('weights', tensor([0.6512])), ('bias', tensor([0.3588]))])\n",
      "Loss: 0.039773717522621155\n",
      "OrderedDict([('weights', tensor([0.6122])), ('bias', tensor([0.2588]))])\n",
      "Loss: 0.07543627172708511\n",
      "OrderedDict([('weights', tensor([0.6512])), ('bias', tensor([0.3588]))])\n",
      "Loss: 0.039773717522621155\n",
      "OrderedDict([('weights', tensor([0.6122])), ('bias', tensor([0.2588]))])\n",
      "Loss: 0.07543627172708511\n",
      "OrderedDict([('weights', tensor([0.6512])), ('bias', tensor([0.3588]))])\n",
      "Loss: 0.039773717522621155\n",
      "OrderedDict([('weights', tensor([0.6122])), ('bias', tensor([0.2588]))])\n",
      "Loss: 0.07543627172708511\n",
      "OrderedDict([('weights', tensor([0.6512])), ('bias', tensor([0.3588]))])\n",
      "Loss: 0.039773717522621155\n",
      "OrderedDict([('weights', tensor([0.6122])), ('bias', tensor([0.2588]))])\n",
      "Loss: 0.07543627172708511\n",
      "OrderedDict([('weights', tensor([0.6512])), ('bias', tensor([0.3588]))])\n",
      "Loss: 0.039773717522621155\n",
      "OrderedDict([('weights', tensor([0.6122])), ('bias', tensor([0.2588]))])\n",
      "Loss: 0.07543627172708511\n",
      "OrderedDict([('weights', tensor([0.6512])), ('bias', tensor([0.3588]))])\n",
      "Loss: 0.039773717522621155\n",
      "OrderedDict([('weights', tensor([0.6122])), ('bias', tensor([0.2588]))])\n",
      "Loss: 0.07543627172708511\n",
      "OrderedDict([('weights', tensor([0.6512])), ('bias', tensor([0.3588]))])\n",
      "Loss: 0.039773717522621155\n",
      "OrderedDict([('weights', tensor([0.6122])), ('bias', tensor([0.2588]))])\n",
      "Loss: 0.07543627172708511\n",
      "OrderedDict([('weights', tensor([0.6512])), ('bias', tensor([0.3588]))])\n",
      "Loss: 0.039773717522621155\n",
      "OrderedDict([('weights', tensor([0.6122])), ('bias', tensor([0.2588]))])\n",
      "Loss: 0.07543627172708511\n",
      "OrderedDict([('weights', tensor([0.6512])), ('bias', tensor([0.3588]))])\n",
      "Loss: 0.039773717522621155\n",
      "OrderedDict([('weights', tensor([0.6122])), ('bias', tensor([0.2588]))])\n",
      "Loss: 0.07543627172708511\n",
      "OrderedDict([('weights', tensor([0.6512])), ('bias', tensor([0.3588]))])\n",
      "Loss: 0.039773717522621155\n",
      "OrderedDict([('weights', tensor([0.6122])), ('bias', tensor([0.2588]))])\n",
      "Loss: 0.07543627172708511\n",
      "OrderedDict([('weights', tensor([0.6512])), ('bias', tensor([0.3588]))])\n",
      "Loss: 0.039773717522621155\n",
      "OrderedDict([('weights', tensor([0.6122])), ('bias', tensor([0.2588]))])\n",
      "Loss: 0.07543627172708511\n",
      "OrderedDict([('weights', tensor([0.6512])), ('bias', tensor([0.3588]))])\n",
      "Loss: 0.039773717522621155\n",
      "OrderedDict([('weights', tensor([0.6122])), ('bias', tensor([0.2588]))])\n",
      "Loss: 0.07543627172708511\n",
      "OrderedDict([('weights', tensor([0.6512])), ('bias', tensor([0.3588]))])\n",
      "Loss: 0.039773717522621155\n",
      "OrderedDict([('weights', tensor([0.6122])), ('bias', tensor([0.2588]))])\n",
      "Loss: 0.07543627172708511\n",
      "OrderedDict([('weights', tensor([0.6512])), ('bias', tensor([0.3588]))])\n",
      "Loss: 0.039773717522621155\n",
      "OrderedDict([('weights', tensor([0.6122])), ('bias', tensor([0.2588]))])\n",
      "Loss: 0.07543627172708511\n",
      "OrderedDict([('weights', tensor([0.6512])), ('bias', tensor([0.3588]))])\n",
      "Loss: 0.039773717522621155\n",
      "OrderedDict([('weights', tensor([0.6122])), ('bias', tensor([0.2588]))])\n",
      "Loss: 0.07543627172708511\n",
      "OrderedDict([('weights', tensor([0.6512])), ('bias', tensor([0.3588]))])\n",
      "Loss: 0.039773717522621155\n",
      "OrderedDict([('weights', tensor([0.6122])), ('bias', tensor([0.2588]))])\n",
      "Loss: 0.07543627172708511\n",
      "OrderedDict([('weights', tensor([0.6512])), ('bias', tensor([0.3588]))])\n",
      "Loss: 0.039773717522621155\n",
      "OrderedDict([('weights', tensor([0.6122])), ('bias', tensor([0.2588]))])\n",
      "Loss: 0.07543627172708511\n",
      "OrderedDict([('weights', tensor([0.6512])), ('bias', tensor([0.3588]))])\n",
      "Loss: 0.039773717522621155\n",
      "OrderedDict([('weights', tensor([0.6122])), ('bias', tensor([0.2588]))])\n",
      "Loss: 0.07543627172708511\n",
      "OrderedDict([('weights', tensor([0.6512])), ('bias', tensor([0.3588]))])\n",
      "Loss: 0.039773717522621155\n",
      "OrderedDict([('weights', tensor([0.6122])), ('bias', tensor([0.2588]))])\n",
      "Loss: 0.07543627172708511\n",
      "OrderedDict([('weights', tensor([0.6512])), ('bias', tensor([0.3588]))])\n",
      "Loss: 0.039773717522621155\n",
      "OrderedDict([('weights', tensor([0.6122])), ('bias', tensor([0.2588]))])\n",
      "Loss: 0.07543627172708511\n",
      "OrderedDict([('weights', tensor([0.6512])), ('bias', tensor([0.3588]))])\n",
      "Loss: 0.039773717522621155\n",
      "OrderedDict([('weights', tensor([0.6122])), ('bias', tensor([0.2588]))])\n",
      "Loss: 0.07543627172708511\n",
      "OrderedDict([('weights', tensor([0.6512])), ('bias', tensor([0.3588]))])\n",
      "Loss: 0.039773717522621155\n",
      "OrderedDict([('weights', tensor([0.6122])), ('bias', tensor([0.2588]))])\n",
      "Loss: 0.07543627172708511\n",
      "OrderedDict([('weights', tensor([0.6512])), ('bias', tensor([0.3588]))])\n",
      "Loss: 0.039773717522621155\n",
      "OrderedDict([('weights', tensor([0.6122])), ('bias', tensor([0.2588]))])\n",
      "Loss: 0.07543627172708511\n",
      "OrderedDict([('weights', tensor([0.6512])), ('bias', tensor([0.3588]))])\n",
      "Loss: 0.039773717522621155\n",
      "OrderedDict([('weights', tensor([0.6122])), ('bias', tensor([0.2588]))])\n",
      "Loss: 0.07543627172708511\n",
      "OrderedDict([('weights', tensor([0.6512])), ('bias', tensor([0.3588]))])\n",
      "Loss: 0.039773717522621155\n",
      "OrderedDict([('weights', tensor([0.6122])), ('bias', tensor([0.2588]))])\n",
      "Loss: 0.07543627172708511\n",
      "OrderedDict([('weights', tensor([0.6512])), ('bias', tensor([0.3588]))])\n",
      "Loss: 0.039773717522621155\n",
      "OrderedDict([('weights', tensor([0.6122])), ('bias', tensor([0.2588]))])\n",
      "Loss: 0.07543627172708511\n",
      "OrderedDict([('weights', tensor([0.6512])), ('bias', tensor([0.3588]))])\n",
      "Loss: 0.039773717522621155\n",
      "OrderedDict([('weights', tensor([0.6122])), ('bias', tensor([0.2588]))])\n",
      "Loss: 0.07543627172708511\n",
      "OrderedDict([('weights', tensor([0.6512])), ('bias', tensor([0.3588]))])\n",
      "Loss: 0.039773717522621155\n",
      "OrderedDict([('weights', tensor([0.6122])), ('bias', tensor([0.2588]))])\n",
      "Loss: 0.07543627172708511\n",
      "OrderedDict([('weights', tensor([0.6512])), ('bias', tensor([0.3588]))])\n",
      "Loss: 0.039773717522621155\n",
      "OrderedDict([('weights', tensor([0.6122])), ('bias', tensor([0.2588]))])\n",
      "Loss: 0.07543627172708511\n",
      "OrderedDict([('weights', tensor([0.6512])), ('bias', tensor([0.3588]))])\n",
      "Loss: 0.039773717522621155\n",
      "OrderedDict([('weights', tensor([0.6122])), ('bias', tensor([0.2588]))])\n",
      "Loss: 0.07543627172708511\n",
      "OrderedDict([('weights', tensor([0.6512])), ('bias', tensor([0.3588]))])\n",
      "Loss: 0.039773717522621155\n",
      "OrderedDict([('weights', tensor([0.6122])), ('bias', tensor([0.2588]))])\n",
      "Loss: 0.07543627172708511\n",
      "OrderedDict([('weights', tensor([0.6512])), ('bias', tensor([0.3588]))])\n",
      "Loss: 0.039773717522621155\n",
      "OrderedDict([('weights', tensor([0.6122])), ('bias', tensor([0.2588]))])\n",
      "Loss: 0.07543627172708511\n",
      "OrderedDict([('weights', tensor([0.6512])), ('bias', tensor([0.3588]))])\n",
      "Loss: 0.039773717522621155\n",
      "OrderedDict([('weights', tensor([0.6122])), ('bias', tensor([0.2588]))])\n",
      "Loss: 0.07543627172708511\n",
      "OrderedDict([('weights', tensor([0.6512])), ('bias', tensor([0.3588]))])\n",
      "Loss: 0.039773717522621155\n",
      "OrderedDict([('weights', tensor([0.6122])), ('bias', tensor([0.2588]))])\n",
      "Loss: 0.07543627172708511\n",
      "OrderedDict([('weights', tensor([0.6512])), ('bias', tensor([0.3588]))])\n",
      "Loss: 0.039773717522621155\n",
      "OrderedDict([('weights', tensor([0.6122])), ('bias', tensor([0.2588]))])\n",
      "Loss: 0.07543627172708511\n",
      "OrderedDict([('weights', tensor([0.6512])), ('bias', tensor([0.3588]))])\n",
      "Loss: 0.039773717522621155\n",
      "OrderedDict([('weights', tensor([0.6122])), ('bias', tensor([0.2588]))])\n",
      "Loss: 0.07543627172708511\n",
      "OrderedDict([('weights', tensor([0.6512])), ('bias', tensor([0.3588]))])\n",
      "Loss: 0.039773717522621155\n",
      "OrderedDict([('weights', tensor([0.6122])), ('bias', tensor([0.2588]))])\n",
      "Loss: 0.07543627172708511\n",
      "OrderedDict([('weights', tensor([0.6512])), ('bias', tensor([0.3588]))])\n",
      "Loss: 0.039773717522621155\n",
      "OrderedDict([('weights', tensor([0.6122])), ('bias', tensor([0.2588]))])\n",
      "Loss: 0.07543627172708511\n",
      "OrderedDict([('weights', tensor([0.6512])), ('bias', tensor([0.3588]))])\n",
      "Loss: 0.039773717522621155\n",
      "OrderedDict([('weights', tensor([0.6122])), ('bias', tensor([0.2588]))])\n",
      "Loss: 0.07543627172708511\n",
      "OrderedDict([('weights', tensor([0.6512])), ('bias', tensor([0.3588]))])\n",
      "Loss: 0.039773717522621155\n",
      "OrderedDict([('weights', tensor([0.6122])), ('bias', tensor([0.2588]))])\n",
      "Loss: 0.07543627172708511\n",
      "OrderedDict([('weights', tensor([0.6512])), ('bias', tensor([0.3588]))])\n",
      "Loss: 0.039773717522621155\n",
      "OrderedDict([('weights', tensor([0.6122])), ('bias', tensor([0.2588]))])\n",
      "Loss: 0.07543627172708511\n",
      "OrderedDict([('weights', tensor([0.6512])), ('bias', tensor([0.3588]))])\n",
      "Loss: 0.039773717522621155\n",
      "OrderedDict([('weights', tensor([0.6122])), ('bias', tensor([0.2588]))])\n",
      "Loss: 0.07543627172708511\n",
      "OrderedDict([('weights', tensor([0.6512])), ('bias', tensor([0.3588]))])\n",
      "Loss: 0.039773717522621155\n",
      "OrderedDict([('weights', tensor([0.6122])), ('bias', tensor([0.2588]))])\n",
      "Loss: 0.07543627172708511\n",
      "OrderedDict([('weights', tensor([0.6512])), ('bias', tensor([0.3588]))])\n",
      "Loss: 0.039773717522621155\n",
      "OrderedDict([('weights', tensor([0.6122])), ('bias', tensor([0.2588]))])\n"
     ]
    }
   ],
   "source": [
    "# An epoch is one loop through the data...\n",
    "epochs = 100\n",
    "\n",
    "# 0. Loop through the data\n",
    "for epoch in range(epochs):\n",
    "    # set model to training mode\n",
    "    model_0.train() #trains model in PyTorch\n",
    "\n",
    "    # 1. Forward Pass\n",
    "    y_pred = model_0(X_train)\n",
    "    \n",
    "    # 2. Calculate the loss\n",
    "    loss = loss_fn(y_pred, y_train)\n",
    "    print(f\"Loss: {loss}\")\n",
    "    # 3. Optimize the zero grad\n",
    "    optimizer.zero_grad()\n",
    "    \n",
    "    # 4. Perform backpropagation\n",
    "    loss.backward()\n",
    "    \n",
    "    #5. Step the optimizer\n",
    "    optimizer.step()\n",
    "        \n",
    "    model_0.eval() #Turns off gradient tracking\n",
    "    print(model_0.state_dict())"
   ]
  },
  {
   "cell_type": "code",
   "execution_count": 124,
   "id": "51deb1ec",
   "metadata": {},
   "outputs": [],
   "source": [
    "with torch.inference_mode():\n",
    "    y_preds_new = model_0(X_test)\n",
    "    "
   ]
  },
  {
   "cell_type": "code",
   "execution_count": 125,
   "id": "326c6687",
   "metadata": {},
   "outputs": [
    {
     "data": {
      "image/png": "[encoded data removed]",
      "text/plain": [
       "<Figure size 1000x700 with 1 Axes>"
      ]
     },
     "metadata": {},
     "output_type": "display_data"
    }
   ],
   "source": [
    "plot_predictions(predictions=y_preds_new)"
   ]
  },
  {
   "cell_type": "code",
   "execution_count": null,
   "id": "10da30af",
   "metadata": {},
   "outputs": [],
   "source": []
  }
 ],
 "metadata": {
  "kernelspec": {
   "display_name": "Python 3 (ipykernel)",
   "language": "python",
   "name": "python3"
  },
  "language_info": {
   "codemirror_mode": {
    "name": "ipython",
    "version": 3
   },
   "file_extension": ".py",
   "mimetype": "text/x-python",
   "name": "python",
   "nbconvert_exporter": "python",
   "pygments_lexer": "ipython3",
   "version": "3.9.13"
  }
 },
 "nbformat": 4,
 "nbformat_minor": 5
}
