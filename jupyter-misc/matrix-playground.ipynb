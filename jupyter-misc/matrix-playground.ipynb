{
 "cells": [
  {
   "cell_type": "code",
   "execution_count": 1,
   "id": "aa92c827",
   "metadata": {},
   "outputs": [
    {
     "name": "stdout",
     "output_type": "stream",
     "text": [
      "32.0\n",
      "1.67 µs ± 37.4 ns per loop (mean ± std. dev. of 7 runs, 1,000,000 loops each)\n"
     ]
    }
   ],
   "source": [
    "import numpy as np\n",
    "def numpy_dotproduct_approach(x, w):\n",
    "    # same as np.dot(x, w)\n",
    "    # and same as x @ w\n",
    "    return x.dot(w)\n",
    "    \n",
    "\n",
    "a = np.array([1., 2., 3.])\n",
    "b = np.array([4., 5., 6.])\n",
    "\n",
    "print(numpy_dotproduct_approach(a, b))\n",
    "\n",
    "large_a = np.arange(1000)\n",
    "large_b = np.arange(1000)\n",
    "\n",
    "%timeit numpy_dotproduct_approach(large_a, large_b)\n"
   ]
  },
  {
   "cell_type": "code",
   "execution_count": 2,
   "id": "4bdc4ba4",
   "metadata": {},
   "outputs": [
    {
     "data": {
      "text/plain": [
       "(3,)"
      ]
     },
     "execution_count": 2,
     "metadata": {},
     "output_type": "execute_result"
    }
   ],
   "source": [
    "a = [1., 2., 3.]\n",
    "np.array(a)\n",
    "lst = [[1, 2, 3], \n",
    "       [4, 5, 6]]\n",
    "ary2d = np.array(lst)\n",
    "np.array([1., 2., 3.]).shape"
   ]
  },
  {
   "cell_type": "code",
   "execution_count": 14,
   "id": "7a78360e",
   "metadata": {},
   "outputs": [
    {
     "name": "stdout",
     "output_type": "stream",
     "text": [
      "{2}\n"
     ]
    }
   ],
   "source": [
    "x1 = {1, 2, 3}\n",
    "x2 = {\"dog\", \"books\", 2}\n",
    "myUnion = x1 | x2\n",
    "print(x1.intersection(x2))"
   ]
  },
  {
   "cell_type": "code",
   "execution_count": 3,
   "id": "1fc8a6c5",
   "metadata": {},
   "outputs": [
    {
     "name": "stdout",
     "output_type": "stream",
     "text": [
      "ca: [1 2 3], cb: [4 5 1]\n",
      "ca: [4 5 6], cb: [1 2 3]\n",
      "ca: [7 8 9], cb: [77 56  2]\n",
      "f_data: [2, 6, 10]\n"
     ]
    }
   ],
   "source": [
    "import numpy as np\n",
    "npA = np.array([[1,2,3],[4,5,6],[7,8,9]])\n",
    "npB = np.array([[4,5,1],[1,2,3],[77,56,2]])\n",
    "for a,b in zip(npA,npB):\n",
    "    print(f\"ca: {a}, cb: {b}\")\n",
    "\n",
    "f = lambda x : x*2\n",
    "data = [1,2,3,5]\n",
    "f_data = [y for x in data if (y := f(x)) != 4]\n",
    "print(f\"f_data: {f_data}\")\n"
   ]
  },
  {
   "cell_type": "code",
   "execution_count": null,
   "id": "e30cfac1",
   "metadata": {},
   "outputs": [],
   "source": []
  }
 ],
 "metadata": {
  "kernelspec": {
   "display_name": "Python 3.9.13 ('python-machinelearning-LC9u9s6X-python')",
   "language": "python",
   "name": "python3"
  },
  "language_info": {
   "codemirror_mode": {
    "name": "ipython",
    "version": 3
   },
   "file_extension": ".py",
   "mimetype": "text/x-python",
   "name": "python",
   "nbconvert_exporter": "python",
   "pygments_lexer": "ipython3",
   "version": "3.9.13"
  },
  "vscode": {
   "interpreter": {
    "hash": "ae9919db502bb965fa06d8982e3d8caddeed1c03ba88074c4a03c058ccd555d0"
   }
  }
 },
 "nbformat": 4,
 "nbformat_minor": 5
}
