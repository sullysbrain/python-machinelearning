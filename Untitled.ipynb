{
 "cells": [
  {
   "cell_type": "code",
   "execution_count": 1,
   "id": "aa92c827",
   "metadata": {},
   "outputs": [
    {
     "name": "stdout",
     "output_type": "stream",
     "text": [
      "32.0\n",
      "1.74 µs ± 65 ns per loop (mean ± std. dev. of 7 runs, 1,000,000 loops each)\n"
     ]
    }
   ],
   "source": [
    "import numpy as np\n",
    "def numpy_dotproduct_approach(x, w):\n",
    "    # same as np.dot(x, w)\n",
    "    # and same as x @ w\n",
    "    return x.dot(w)\n",
    "    \n",
    "\n",
    "a = np.array([1., 2., 3.])\n",
    "b = np.array([4., 5., 6.])\n",
    "\n",
    "print(numpy_dotproduct_approach(a, b))\n",
    "\n",
    "large_a = np.arange(1000)\n",
    "large_b = np.arange(1000)\n",
    "\n",
    "%timeit numpy_dotproduct_approach(large_a, large_b)\n"
   ]
  },
  {
   "cell_type": "code",
   "execution_count": 3,
   "id": "4bdc4ba4",
   "metadata": {},
   "outputs": [
    {
     "data": {
      "text/plain": [
       "array([1., 2., 3.])"
      ]
     },
     "execution_count": 3,
     "metadata": {},
     "output_type": "execute_result"
    }
   ],
   "source": [
    "a = [1., 2., 3.]\n",
    "np.array(a)\n"
   ]
  },
  {
   "cell_type": "code",
   "execution_count": 4,
   "id": "0ef6414a",
   "metadata": {},
   "outputs": [
    {
     "data": {
      "text/plain": [
       "array([[1, 2, 3],\n",
       "       [4, 5, 6]])"
      ]
     },
     "execution_count": 4,
     "metadata": {},
     "output_type": "execute_result"
    }
   ],
   "source": [
    "lst = [[1, 2, 3], \n",
    "       [4, 5, 6]]\n",
    "ary2d = np.array(lst)\n",
    "ary2d"
   ]
  },
  {
   "cell_type": "code",
   "execution_count": 5,
   "id": "3016d7c7",
   "metadata": {},
   "outputs": [
    {
     "data": {
      "text/plain": [
       "(3,)"
      ]
     },
     "execution_count": 5,
     "metadata": {},
     "output_type": "execute_result"
    }
   ],
   "source": [
    "np.array([1., 2., 3.]).shape"
   ]
  },
  {
   "cell_type": "code",
   "execution_count": null,
   "id": "7a78360e",
   "metadata": {},
   "outputs": [],
   "source": []
  }
 ],
 "metadata": {
  "kernelspec": {
   "display_name": "Python 3.9.13 ('python-machinelearning-LC9u9s6X-python')",
   "language": "python",
   "name": "python3"
  },
  "language_info": {
   "codemirror_mode": {
    "name": "ipython",
    "version": 3
   },
   "file_extension": ".py",
   "mimetype": "text/x-python",
   "name": "python",
   "nbconvert_exporter": "python",
   "pygments_lexer": "ipython3",
   "version": "3.9.13"
  },
  "vscode": {
   "interpreter": {
    "hash": "ae9919db502bb965fa06d8982e3d8caddeed1c03ba88074c4a03c058ccd555d0"
   }
  }
 },
 "nbformat": 4,
 "nbformat_minor": 5
}
